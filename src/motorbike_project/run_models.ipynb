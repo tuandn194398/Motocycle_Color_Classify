{
 "cells": [
  {
   "cell_type": "code",
   "execution_count": 1,
   "id": "initial_id",
   "metadata": {
    "collapsed": true,
    "ExecuteTime": {
     "end_time": "2024-03-09T06:29:51.332344800Z",
     "start_time": "2024-03-09T06:29:35.254476Z"
    }
   },
   "outputs": [],
   "source": [
    "!pip install wandb -qU"
   ]
  },
  {
   "cell_type": "code",
   "execution_count": 2,
   "outputs": [],
   "source": [
    "# Log in to your W&B account\n",
    "import wandb"
   ],
   "metadata": {
    "collapsed": false,
    "ExecuteTime": {
     "end_time": "2024-03-09T06:30:10.892419600Z",
     "start_time": "2024-03-09T06:30:08.466627500Z"
    }
   },
   "id": "7b522d437e7cba26"
  },
  {
   "cell_type": "code",
   "execution_count": 3,
   "outputs": [
    {
     "name": "stderr",
     "output_type": "stream",
     "text": [
      "wandb: Logging into wandb.ai. (Learn how to deploy a W&B server locally: https://wandb.me/wandb-server)\n",
      "wandb: You can find your API key in your browser here: https://wandb.ai/authorize\n",
      "wandb: Paste an API key from your profile and hit enter, or press ctrl+c to quit:wandb: Appending key for api.wandb.ai to your netrc file: C:\\Users\\Admin\\.netrc\n"
     ]
    },
    {
     "data": {
      "text/plain": "True"
     },
     "execution_count": 3,
     "metadata": {},
     "output_type": "execute_result"
    }
   ],
   "source": [
    "wandb.login()"
   ],
   "metadata": {
    "collapsed": false,
    "ExecuteTime": {
     "end_time": "2024-03-09T06:32:21.546751400Z",
     "start_time": "2024-03-09T06:31:35.546325900Z"
    }
   },
   "id": "1e19bc5a7d4bd0d7"
  },
  {
   "cell_type": "code",
   "execution_count": 5,
   "outputs": [
    {
     "data": {
      "text/plain": "<IPython.core.display.HTML object>",
      "text/html": "Finishing last run (ID:mrchk852) before initializing another..."
     },
     "metadata": {},
     "output_type": "display_data"
    },
    {
     "data": {
      "text/plain": "VBox(children=(Label(value='0.001 MB of 0.001 MB uploaded\\r'), FloatProgress(value=1.0, max=1.0)))",
      "application/vnd.jupyter.widget-view+json": {
       "version_major": 2,
       "version_minor": 0,
       "model_id": "4c1ed0715f2f41409142ed6e2b17ac9a"
      }
     },
     "metadata": {},
     "output_type": "display_data"
    },
    {
     "data": {
      "text/plain": "<IPython.core.display.HTML object>",
      "text/html": " View run <strong style=\"color:#cdcd00\">likely-cloud-1</strong> at: <a href='https://wandb.ai/tuandn/my-awesome-project/runs/mrchk852' target=\"_blank\">https://wandb.ai/tuandn/my-awesome-project/runs/mrchk852</a><br/> View job at <a href='https://wandb.ai/tuandn/my-awesome-project/jobs/QXJ0aWZhY3RDb2xsZWN0aW9uOjE0NzA2MTc3MA==/version_details/v0' target=\"_blank\">https://wandb.ai/tuandn/my-awesome-project/jobs/QXJ0aWZhY3RDb2xsZWN0aW9uOjE0NzA2MTc3MA==/version_details/v0</a><br/>Synced 6 W&B file(s), 0 media file(s), 2 artifact file(s) and 0 other file(s)"
     },
     "metadata": {},
     "output_type": "display_data"
    },
    {
     "data": {
      "text/plain": "<IPython.core.display.HTML object>",
      "text/html": "Find logs at: <code>.\\wandb\\run-20240309_133818-mrchk852\\logs</code>"
     },
     "metadata": {},
     "output_type": "display_data"
    },
    {
     "data": {
      "text/plain": "<IPython.core.display.HTML object>",
      "text/html": "Successfully finished last run (ID:mrchk852). Initializing new run:<br/>"
     },
     "metadata": {},
     "output_type": "display_data"
    },
    {
     "data": {
      "text/plain": "VBox(children=(Label(value='Waiting for wandb.init()...\\r'), FloatProgress(value=0.011111111111111112, max=1.0…",
      "application/vnd.jupyter.widget-view+json": {
       "version_major": 2,
       "version_minor": 0,
       "model_id": "904a3c6232bf422ca2e99ed2601c0fc1"
      }
     },
     "metadata": {},
     "output_type": "display_data"
    },
    {
     "data": {
      "text/plain": "<IPython.core.display.HTML object>",
      "text/html": "Tracking run with wandb version 0.16.4"
     },
     "metadata": {},
     "output_type": "display_data"
    },
    {
     "data": {
      "text/plain": "<IPython.core.display.HTML object>",
      "text/html": "Run data is saved locally in <code>E:\\Users\\Admin\\Desktop\\Motocycle-Detection-BKAI\\src\\motorbike_project\\wandb\\run-20240309_134014-78z8uqry</code>"
     },
     "metadata": {},
     "output_type": "display_data"
    },
    {
     "data": {
      "text/plain": "<IPython.core.display.HTML object>",
      "text/html": "Syncing run <strong><a href='https://wandb.ai/tuandn/my-awesome-project/runs/78z8uqry' target=\"_blank\">logical-wind-2</a></strong> to <a href='https://wandb.ai/tuandn/my-awesome-project' target=\"_blank\">Weights & Biases</a> (<a href='https://wandb.me/run' target=\"_blank\">docs</a>)<br/>"
     },
     "metadata": {},
     "output_type": "display_data"
    },
    {
     "data": {
      "text/plain": "<IPython.core.display.HTML object>",
      "text/html": " View project at <a href='https://wandb.ai/tuandn/my-awesome-project' target=\"_blank\">https://wandb.ai/tuandn/my-awesome-project</a>"
     },
     "metadata": {},
     "output_type": "display_data"
    },
    {
     "data": {
      "text/plain": "<IPython.core.display.HTML object>",
      "text/html": " View run at <a href='https://wandb.ai/tuandn/my-awesome-project/runs/78z8uqry' target=\"_blank\">https://wandb.ai/tuandn/my-awesome-project/runs/78z8uqry</a>"
     },
     "metadata": {},
     "output_type": "display_data"
    }
   ],
   "source": [
    "run = wandb.init(\n",
    "    # Set the project where this run will be logged\n",
    "    project=\"my-awesome-project\",\n",
    "    # Track hyperparameters and run metadata\n",
    "    config={\n",
    "        \"learning_rate\": 0.01,\n",
    "        \"epochs\": 10,\n",
    "    },\n",
    ")"
   ],
   "metadata": {
    "collapsed": false,
    "ExecuteTime": {
     "end_time": "2024-03-09T06:40:35.414053700Z",
     "start_time": "2024-03-09T06:40:14.219303100Z"
    }
   },
   "id": "596d0a0328e6b41e"
  },
  {
   "cell_type": "code",
   "execution_count": 7,
   "outputs": [
    {
     "data": {
      "text/plain": "<IPython.core.display.HTML object>",
      "text/html": "Finishing last run (ID:p73qlcsf) before initializing another..."
     },
     "metadata": {},
     "output_type": "display_data"
    },
    {
     "data": {
      "text/plain": "VBox(children=(Label(value='0.001 MB of 0.013 MB uploaded\\r'), FloatProgress(value=0.1050177619893428, max=1.0…",
      "application/vnd.jupyter.widget-view+json": {
       "version_major": 2,
       "version_minor": 0,
       "model_id": "404057ba38454426bc0dadcb42db99ba"
      }
     },
     "metadata": {},
     "output_type": "display_data"
    },
    {
     "data": {
      "text/plain": "<IPython.core.display.HTML object>",
      "text/html": " View run <strong style=\"color:#cdcd00\">fragrant-night-3</strong> at: <a href='https://wandb.ai/tuandn/my-awesome-project/runs/p73qlcsf' target=\"_blank\">https://wandb.ai/tuandn/my-awesome-project/runs/p73qlcsf</a><br/> View job at <a href='https://wandb.ai/tuandn/my-awesome-project/jobs/QXJ0aWZhY3RDb2xsZWN0aW9uOjE0NzA2MTc3MA==/version_details/v0' target=\"_blank\">https://wandb.ai/tuandn/my-awesome-project/jobs/QXJ0aWZhY3RDb2xsZWN0aW9uOjE0NzA2MTc3MA==/version_details/v0</a><br/>Synced 6 W&B file(s), 0 media file(s), 0 artifact file(s) and 0 other file(s)"
     },
     "metadata": {},
     "output_type": "display_data"
    },
    {
     "data": {
      "text/plain": "<IPython.core.display.HTML object>",
      "text/html": "Find logs at: <code>.\\wandb\\run-20240309_134235-p73qlcsf\\logs</code>"
     },
     "metadata": {},
     "output_type": "display_data"
    },
    {
     "data": {
      "text/plain": "<IPython.core.display.HTML object>",
      "text/html": "Successfully finished last run (ID:p73qlcsf). Initializing new run:<br/>"
     },
     "metadata": {},
     "output_type": "display_data"
    },
    {
     "data": {
      "text/plain": "VBox(children=(Label(value='Waiting for wandb.init()...\\r'), FloatProgress(value=0.011111111111111112, max=1.0…",
      "application/vnd.jupyter.widget-view+json": {
       "version_major": 2,
       "version_minor": 0,
       "model_id": "57543e4e819a41489af87e329350648e"
      }
     },
     "metadata": {},
     "output_type": "display_data"
    },
    {
     "data": {
      "text/plain": "<IPython.core.display.HTML object>",
      "text/html": "Tracking run with wandb version 0.16.4"
     },
     "metadata": {},
     "output_type": "display_data"
    },
    {
     "data": {
      "text/plain": "<IPython.core.display.HTML object>",
      "text/html": "Run data is saved locally in <code>E:\\Users\\Admin\\Desktop\\Motocycle-Detection-BKAI\\src\\motorbike_project\\wandb\\run-20240309_134309-w2rcc9op</code>"
     },
     "metadata": {},
     "output_type": "display_data"
    },
    {
     "data": {
      "text/plain": "<IPython.core.display.HTML object>",
      "text/html": "Syncing run <strong><a href='https://wandb.ai/tuandn/my-awesome-project/runs/w2rcc9op' target=\"_blank\">exalted-monkey-4</a></strong> to <a href='https://wandb.ai/tuandn/my-awesome-project' target=\"_blank\">Weights & Biases</a> (<a href='https://wandb.me/run' target=\"_blank\">docs</a>)<br/>"
     },
     "metadata": {},
     "output_type": "display_data"
    },
    {
     "data": {
      "text/plain": "<IPython.core.display.HTML object>",
      "text/html": " View project at <a href='https://wandb.ai/tuandn/my-awesome-project' target=\"_blank\">https://wandb.ai/tuandn/my-awesome-project</a>"
     },
     "metadata": {},
     "output_type": "display_data"
    },
    {
     "data": {
      "text/plain": "<IPython.core.display.HTML object>",
      "text/html": " View run at <a href='https://wandb.ai/tuandn/my-awesome-project/runs/w2rcc9op' target=\"_blank\">https://wandb.ai/tuandn/my-awesome-project/runs/w2rcc9op</a>"
     },
     "metadata": {},
     "output_type": "display_data"
    },
    {
     "name": "stdout",
     "output_type": "stream",
     "text": [
      "lr: 0.01\n",
      "epoch=2, accuracy=0.5201511380928936, loss=0.603532648255083\n",
      "epoch=3, accuracy=0.4880803771914172, loss=0.4124428312962159\n",
      "epoch=4, accuracy=0.5866191328395494, loss=0.23016417151409854\n",
      "epoch=5, accuracy=0.8006836552915366, loss=0.25900843604072926\n",
      "epoch=6, accuracy=0.7046470628267507, loss=0.18978910562609516\n",
      "epoch=7, accuracy=0.841996655202701, loss=0.21417770643990414\n",
      "epoch=8, accuracy=0.8638406180150981, loss=0.2350063531142456\n",
      "epoch=9, accuracy=0.8522366251611537, loss=0.138162762727169\n"
     ]
    }
   ],
   "source": [
    "import random\n",
    "\n",
    "epochs = 10\n",
    "lr = 0.01\n",
    "\n",
    "run = wandb.init(\n",
    "    # Set the project where this run will be logged\n",
    "    project=\"my-awesome-project\",\n",
    "    # Track hyperparameters and run metadata\n",
    "    config={\n",
    "        \"learning_rate\": lr,\n",
    "        \"epochs\": epochs,\n",
    "    },\n",
    ")\n",
    "\n",
    "offset = random.random() / 5\n",
    "print(f\"lr: {lr}\")\n",
    "\n",
    "# simulating a training run\n",
    "for epoch in range(2, epochs):\n",
    "    acc = 1 - 2**-epoch - random.random() / epoch - offset\n",
    "    loss = 2**-epoch + random.random() / epoch + offset\n",
    "    print(f\"epoch={epoch}, accuracy={acc}, loss={loss}\")\n",
    "    wandb.log({\"accuracy\": acc, \"loss\": loss})"
   ],
   "metadata": {
    "collapsed": false,
    "ExecuteTime": {
     "end_time": "2024-03-09T06:43:27.011234700Z",
     "start_time": "2024-03-09T06:43:09.964186900Z"
    }
   },
   "id": "68b9cda57474a0f3"
  },
  {
   "cell_type": "code",
   "execution_count": 19,
   "outputs": [
    {
     "name": "stdout",
     "output_type": "stream",
     "text": [
      "E:\\Users\\Admin\\Desktop\\Motocycle-Detection-BKAI\\src\n"
     ]
    }
   ],
   "source": [
    "%cd /Users/Admin/Desktop/Motocycle-Detection-BKAI/src"
   ],
   "metadata": {
    "collapsed": false,
    "ExecuteTime": {
     "end_time": "2024-03-09T06:57:51.058625500Z",
     "start_time": "2024-03-09T06:57:51.028632700Z"
    }
   },
   "id": "1d33063530524f39"
  },
  {
   "cell_type": "code",
   "execution_count": 23,
   "outputs": [
    {
     "name": "stderr",
     "output_type": "stream",
     "text": [
      "Traceback (most recent call last):\n",
      "  File \"C:\\Users\\Admin\\anaconda3\\envs\\motobike_env\\lib\\runpy.py\", line 185, in _run_module_as_main\n",
      "    mod_name, mod_spec, code = _get_module_details(mod_name, _Error)\n",
      "  File \"C:\\Users\\Admin\\anaconda3\\envs\\motobike_env\\lib\\runpy.py\", line 111, in _get_module_details\n",
      "    __import__(pkg_name)\n",
      "  File \"E:\\Users\\Admin\\Desktop\\Motocycle-Detection-BKAI\\src\\motorbike_project\\__init__.py\", line 2, in <module>\n",
      "    from .models import *\n",
      "  File \"E:\\Users\\Admin\\Desktop\\Motocycle-Detection-BKAI\\src\\motorbike_project\\models\\__init__.py\", line 3, in <module>\n"
     ]
    }
   ],
   "source": [
    "!python -m motorbike_project.train --model vit --batch_size 64 -w -wk f0ef7eb35f1377a1ba7d4c641485eacf23d6da28 --csv_path /kaggle/input/123456/workspace/PAPER_Material/FINAL-DATASET/check.csv --folder_path /kaggle/input/123456/workspace/PAPER_Material/FINAL-DATASET/train/"
   ],
   "metadata": {
    "collapsed": false,
    "ExecuteTime": {
     "end_time": "2024-03-09T07:02:57.524833Z",
     "start_time": "2024-03-09T07:02:48.050498900Z"
    }
   },
   "id": "844910b9711e7a97"
  },
  {
   "cell_type": "code",
   "execution_count": null,
   "outputs": [],
   "source": [],
   "metadata": {
    "collapsed": false
   },
   "id": "703152af1cb72505"
  }
 ],
 "metadata": {
  "kernelspec": {
   "display_name": "Python 3",
   "language": "python",
   "name": "python3"
  },
  "language_info": {
   "codemirror_mode": {
    "name": "ipython",
    "version": 2
   },
   "file_extension": ".py",
   "mimetype": "text/x-python",
   "name": "python",
   "nbconvert_exporter": "python",
   "pygments_lexer": "ipython2",
   "version": "2.7.6"
  }
 },
 "nbformat": 4,
 "nbformat_minor": 5
}
